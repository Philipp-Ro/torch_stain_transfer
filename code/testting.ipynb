{
 "cells": [
  {
   "cell_type": "code",
   "execution_count": 1,
   "metadata": {},
   "outputs": [
    {
     "name": "stderr",
     "output_type": "stream",
     "text": [
      "c:\\Users\\phili\\OneDrive\\Uni\\WS_22\\Masterarbeit\\Masterarbeit_Code_Philipp_Rosin\\torch_stain_transfer\\env\\lib\\site-packages\\tqdm\\auto.py:21: TqdmWarning: IProgress not found. Please update jupyter and ipywidgets. See https://ipywidgets.readthedocs.io/en/stable/user_install.html\n",
      "  from .autonotebook import tqdm as notebook_tqdm\n"
     ]
    }
   ],
   "source": [
    "import utils\n",
    "import loader\n",
    "import torch\n",
    "path_HE = 'C:/Users/phili/OneDrive/Uni/WS_22/Masterarbeit/Masterarbeit_Code_Philipp_Rosin/Data_set_BCI_challange/train/HE'\n",
    "path_IHC = 'C:/Users/phili/OneDrive/Uni/WS_22/Masterarbeit/Masterarbeit_Code_Philipp_Rosin/Data_set_BCI_challange/train/IHC'\n",
    "\n",
    "params = utils.get_config_from_yaml('C:/Users/phili/OneDrive/Uni/WS_22/Masterarbeit/Masterarbeit_Code_Philipp_Rosin/torch_stain_transfer/code/config.yaml')\n",
    "k=1\n",
    "\n",
    "train_data = loader.stain_transfer_dataset( img_patch=  k,\n",
    "                                            params= params,\n",
    "                                            HE_img_dir = path_HE,\n",
    "                                            IHC_img_dir = path_IHC,                                                     \n",
    "                                           )\n",
    "\n",
    "real_HE, real_IHC,img_name = train_data[4]\n",
    "real_HE = torch.unsqueeze(real_HE,0)            "
   ]
  },
  {
   "cell_type": "code",
   "execution_count": 2,
   "metadata": {},
   "outputs": [
    {
     "name": "stderr",
     "output_type": "stream",
     "text": [
      "c:\\Users\\phili\\OneDrive\\Uni\\WS_22\\Masterarbeit\\Masterarbeit_Code_Philipp_Rosin\\torch_stain_transfer\\code\\trasnformer_gan.py:160: UserWarning: To copy construct from a tensor, it is recommended to use sourceTensor.clone().detach() or sourceTensor.clone().detach().requires_grad_(True), rather than torch.tensor(sourceTensor).\n",
      "  self.pos_embedding = nn.Parameter(torch.tensor(get_positional_Embeddings((patch_size[0]**2)* chw[0] , self.embedding_dim)))\n"
     ]
    },
    {
     "data": {
      "text/plain": [
       "Generator(\n",
       "  (patch_embedding): patch_embedding(\n",
       "    (patcher): Conv2d(3, 3072, kernel_size=(32, 32), stride=(32, 32))\n",
       "    (flatten): Flatten(start_dim=2, end_dim=3)\n",
       "  )\n",
       "  (blocks): ModuleList(\n",
       "    (0): ViT_Block(\n",
       "      (norm1): LayerNorm((64,), eps=1e-05, elementwise_affine=True)\n",
       "      (mhsa): MSA(\n",
       "        (q_mappings): ModuleList(\n",
       "          (0): Linear(in_features=32, out_features=32, bias=True)\n",
       "          (1): Linear(in_features=32, out_features=32, bias=True)\n",
       "        )\n",
       "        (k_mappings): ModuleList(\n",
       "          (0): Linear(in_features=32, out_features=32, bias=True)\n",
       "          (1): Linear(in_features=32, out_features=32, bias=True)\n",
       "        )\n",
       "        (v_mappings): ModuleList(\n",
       "          (0): Linear(in_features=32, out_features=32, bias=True)\n",
       "          (1): Linear(in_features=32, out_features=32, bias=True)\n",
       "        )\n",
       "        (softmax): Softmax(dim=-1)\n",
       "      )\n",
       "      (norm2): LayerNorm((64,), eps=1e-05, elementwise_affine=True)\n",
       "      (mlp): Sequential(\n",
       "        (0): Linear(in_features=64, out_features=256, bias=True)\n",
       "        (1): GELU(approximate='none')\n",
       "        (2): Linear(in_features=256, out_features=64, bias=True)\n",
       "      )\n",
       "    )\n",
       "    (1): ViT_Block(\n",
       "      (norm1): LayerNorm((64,), eps=1e-05, elementwise_affine=True)\n",
       "      (mhsa): MSA(\n",
       "        (q_mappings): ModuleList(\n",
       "          (0): Linear(in_features=32, out_features=32, bias=True)\n",
       "          (1): Linear(in_features=32, out_features=32, bias=True)\n",
       "        )\n",
       "        (k_mappings): ModuleList(\n",
       "          (0): Linear(in_features=32, out_features=32, bias=True)\n",
       "          (1): Linear(in_features=32, out_features=32, bias=True)\n",
       "        )\n",
       "        (v_mappings): ModuleList(\n",
       "          (0): Linear(in_features=32, out_features=32, bias=True)\n",
       "          (1): Linear(in_features=32, out_features=32, bias=True)\n",
       "        )\n",
       "        (softmax): Softmax(dim=-1)\n",
       "      )\n",
       "      (norm2): LayerNorm((64,), eps=1e-05, elementwise_affine=True)\n",
       "      (mlp): Sequential(\n",
       "        (0): Linear(in_features=64, out_features=256, bias=True)\n",
       "        (1): GELU(approximate='none')\n",
       "        (2): Linear(in_features=256, out_features=64, bias=True)\n",
       "      )\n",
       "    )\n",
       "  )\n",
       "  (unflatten): Unflatten(dim=2, unflattened_size=(8, 8))\n",
       "  (out): Sequential(\n",
       "    (0): Conv2d(3, 3, kernel_size=(1, 1), stride=(1, 1))\n",
       "    (1): Tanh()\n",
       "  )\n",
       ")"
      ]
     },
     "execution_count": 2,
     "metadata": {},
     "output_type": "execute_result"
    }
   ],
   "source": [
    "import trasnformer_gan\n",
    "\n",
    "trans_gen = trasnformer_gan.Discriminator(\n",
    "                                      chw = [3,256,256], \n",
    "                                      patch_size = [32, 32],\n",
    "                                      num_heads = 2, \n",
    "                                      num_blocks = 2)\n",
    "trans_gen.cuda()\n"
   ]
  },
  {
   "cell_type": "code",
   "execution_count": 4,
   "metadata": {},
   "outputs": [
    {
     "name": "stdout",
     "output_type": "stream",
     "text": [
      "torch.Size([1, 3, 256, 256])\n",
      "64\n",
      "torch.Size([1, 3072, 64])\n",
      "torch.Size([1, 3072, 64])\n",
      "torch.Size([1, 3072, 64])\n",
      "torch.Size([1, 3, 256, 256])\n"
     ]
    }
   ],
   "source": [
    "\n",
    "\n",
    "fake_IHC = trans_gen(real_HE)\n",
    "print(fake_IHC.shape)\n"
   ]
  },
  {
   "cell_type": "code",
   "execution_count": 49,
   "metadata": {},
   "outputs": [],
   "source": [
    "from torch import nn\n",
    "import math\n",
    "patch_size = 32\n",
    "n, c, h, w = real_HE.shape\n",
    "\n",
    "embedding_dim = (patch_size**2)* 3\n",
    "# 1) the conv layer with kernel_size = stride writes out patches of the kernels the embedding_dim should be choosen as (patch_size**2)* in_channel so that no information is lost        \n",
    "patcher = nn.Conv2d(in_channels=c,\n",
    "                    out_channels = embedding_dim,\n",
    "                    kernel_size = patch_size,\n",
    "                    stride = patch_size,\n",
    "                    padding = 0)\n",
    "patcher.cuda()\n",
    "# 2) flatten the feature map into 1D\n",
    "flatten = nn.Flatten(start_dim=2, \n",
    "                    end_dim=3)\n",
    "\n",
    "num_patches = (h/patch_size)**2\n",
    "\n",
    "unsqueze =nn.Unflatten(2,(int(math.sqrt(num_patches)), int(math.sqrt(num_patches))))\n",
    "\n"
   ]
  },
  {
   "cell_type": "code",
   "execution_count": 50,
   "metadata": {},
   "outputs": [
    {
     "name": "stdout",
     "output_type": "stream",
     "text": [
      "torch.Size([1, 3, 256, 256])\n",
      "torch.Size([1, 3072, 8, 8])\n",
      "torch.Size([1, 3072, 64])\n",
      "torch.Size([1, 3072, 8, 8])\n",
      "torch.Size([1, 3, 256, 256])\n"
     ]
    }
   ],
   "source": [
    "conv = patcher(real_HE)\n",
    "flatten = flatten(conv)\n",
    "unflatten = unsqueze(flatten)\n",
    "out = unflatten.reshape([1,3,256,256])\n",
    "print(real_HE.shape)\n",
    "print(conv.shape)\n",
    "print(flatten.shape)\n",
    "print(unflatten.shape)\n",
    "print(out.shape)"
   ]
  }
 ],
 "metadata": {
  "kernelspec": {
   "display_name": "env",
   "language": "python",
   "name": "python3"
  },
  "language_info": {
   "codemirror_mode": {
    "name": "ipython",
    "version": 3
   },
   "file_extension": ".py",
   "mimetype": "text/x-python",
   "name": "python",
   "nbconvert_exporter": "python",
   "pygments_lexer": "ipython3",
   "version": "3.8.5"
  },
  "orig_nbformat": 4,
  "vscode": {
   "interpreter": {
    "hash": "d960cb169598afdf3e07f36ef921bb5a4f876badc557409f77a22927d6dd7515"
   }
  }
 },
 "nbformat": 4,
 "nbformat_minor": 2
}
