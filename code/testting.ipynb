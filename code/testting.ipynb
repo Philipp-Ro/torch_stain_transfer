{
 "cells": [
  {
   "cell_type": "code",
   "execution_count": 2,
   "metadata": {},
   "outputs": [],
   "source": [
    "import utils\n",
    "import loader\n",
    "import torch\n",
    "import eval\n",
    "from torch.utils.data import DataLoader\n",
    "path_HE = 'C:/Users/phili/OneDrive/Uni/WS_22/Masterarbeit/Masterarbeit_Code_Philipp_Rosin/Data_set_BCI_challange/train/HE'\n",
    "path_IHC = 'C:/Users/phili/OneDrive/Uni/WS_22/Masterarbeit/Masterarbeit_Code_Philipp_Rosin/Data_set_BCI_challange/train/IHC'\n",
    "\n",
    "params = utils.get_config_from_yaml('C:/Users/phili/OneDrive/Uni/WS_22/Masterarbeit/Masterarbeit_Code_Philipp_Rosin/torch_stain_transfer/code/config.yaml')\n",
    "\n",
    "train_data = loader.stain_transfer_dataset( img_patch=  1,\n",
    "                                            params= params,\n",
    "                                                        HE_img_dir = path_HE,\n",
    "                                                        IHC_img_dir = path_IHC,                                                     \n",
    "                                           )\n",
    "            \n",
    "\n",
    "\n",
    "real_HE, real_IHC,img_name = train_data[3]"
   ]
  },
  {
   "cell_type": "code",
   "execution_count": 25,
   "metadata": {},
   "outputs": [
    {
     "name": "stdout",
     "output_type": "stream",
     "text": [
      "tensor([1.2208e-04, 2.4416e-04, 1.9838e-04, 3.0520e-04, 4.2729e-04, 4.4255e-04,\n",
      "        4.4255e-04, 6.1041e-04, 4.7307e-04, 7.4775e-04, 7.0197e-04, 8.2405e-04,\n",
      "        7.6301e-04, 1.0835e-03, 1.1293e-03, 1.5413e-03, 1.2971e-03, 1.4497e-03,\n",
      "        2.1059e-03, 1.8465e-03, 2.6248e-03, 4.7001e-03, 4.6238e-03, 5.9667e-03,\n",
      "        7.5538e-03, 9.0951e-03, 1.2758e-02, 2.2387e-02, 4.8421e-02, 9.5575e-02,\n",
      "        1.5785e-01, 2.0003e-01, 1.7671e-01, 1.0690e-01, 5.4357e-02, 3.1238e-02,\n",
      "        2.7026e-02, 1.1476e-02, 2.9300e-03, 5.9515e-04, 3.0520e-04, 9.1561e-05,\n",
      "        3.0520e-05, 0.0000e+00, 0.0000e+00, 0.0000e+00, 0.0000e+00, 0.0000e+00,\n",
      "        0.0000e+00, 0.0000e+00, 0.0000e+00, 0.0000e+00, 0.0000e+00, 0.0000e+00,\n",
      "        0.0000e+00, 0.0000e+00, 0.0000e+00, 0.0000e+00, 0.0000e+00, 0.0000e+00,\n",
      "        0.0000e+00, 0.0000e+00, 0.0000e+00, 0.0000e+00], device='cuda:0')\n",
      "tensor(0.4974, device='cuda:0')\n"
     ]
    }
   ],
   "source": [
    "import numpy as np\n",
    "\n",
    "X = real_HE\n",
    "#print(X[0,:,:])\n",
    "hist_1 = torch.histc(X[1,:,:], bins=64, min=-5, max=5)\n",
    "hist_1 /= hist_1.sum()\n",
    "\n",
    "hist_2 = torch.histc(X[2,:,:], bins=64, min=-5, max=5)\n",
    "hist_2 /= hist_2.sum()\n",
    "\n",
    "minima = torch.minimum(hist_1, hist_2)\n",
    "intersection = torch.true_divide(minima.sum(), hist_2.sum())\n",
    "\n",
    "print(intersection)"
   ]
  },
  {
   "cell_type": "code",
   "execution_count": 1,
   "metadata": {},
   "outputs": [
    {
     "name": "stderr",
     "output_type": "stream",
     "text": [
      "c:\\Users\\phili\\OneDrive\\Uni\\WS_22\\Masterarbeit\\Masterarbeit_Code_Philipp_Rosin\\torch_stain_transfer\\env\\lib\\site-packages\\tqdm\\auto.py:21: TqdmWarning: IProgress not found. Please update jupyter and ipywidgets. See https://ipywidgets.readthedocs.io/en/stable/user_install.html\n",
      "  from .autonotebook import tqdm as notebook_tqdm\n"
     ]
    }
   ],
   "source": [
    "import torch.nn as nn\n",
    "class Discriminator(nn.Module):\n",
    "    def __init__(self, in_channels, hidden_dim, filter_groth, step_num ):\n",
    "        super(Discriminator, self).__init__()\n",
    "        \n",
    "        self.conv = nn.Sequential(\n",
    "                nn.ReflectionPad2d(in_channels), \n",
    "                nn.Conv2d(in_channels, hidden_dim, 2*in_channels+1),\n",
    "                nn.ReLU(inplace=True),\n",
    "                )\n",
    "\n",
    "        channels = hidden_dim\n",
    "        \n",
    "        self.down = []\n",
    "        for _ in range(step_num):\n",
    "            out_channels = channels * filter_groth\n",
    "            self.down += [\n",
    "                nn.Conv2d(channels, out_channels, 3, stride=2, padding=1),\n",
    "                nn.InstanceNorm2d(out_channels),\n",
    "                nn.ReLU(inplace=True),\n",
    "            ]\n",
    "            channels = out_channels\n",
    "        self.down = nn.Sequential(*self.down)\n",
    "\n",
    "    def forward(self, x):\n",
    "        print(x.shape)\n",
    "        x = self.conv(x)\n",
    "        print(x.shape)\n",
    "        x = self.down(x)\n",
    "        print(x.shape)\n",
    "        return x\n",
    "\n",
    "\n",
    "\n",
    "\n"
   ]
  },
  {
   "cell_type": "code",
   "execution_count": 7,
   "metadata": {},
   "outputs": [
    {
     "name": "stdout",
     "output_type": "stream",
     "text": [
      "196608\n"
     ]
    }
   ],
   "source": [
    "print(torch.numel(real_HE))"
   ]
  },
  {
   "cell_type": "code",
   "execution_count": 6,
   "metadata": {},
   "outputs": [
    {
     "name": "stdout",
     "output_type": "stream",
     "text": [
      "torch.Size([1, 3, 256, 256])\n",
      "torch.Size([1, 32, 256, 256])\n",
      "torch.Size([1, 128, 64, 64])\n"
     ]
    }
   ],
   "source": [
    "disc_x = Discriminator( in_channels = 3, hidden_dim =32, filter_groth=2, step_num=2)\n",
    "disc_x.cuda()\n",
    "\n",
    "result = disc_x(real_HE)"
   ]
  },
  {
   "cell_type": "code",
   "execution_count": 3,
   "metadata": {},
   "outputs": [
    {
     "data": {
      "text/plain": [
       "Discriminator(\n",
       "  (model): Sequential(\n",
       "    (0): Conv2d(3, 64, kernel_size=(4, 4), stride=(2, 2), padding=(1, 1))\n",
       "    (1): LeakyReLU(negative_slope=0.2, inplace=True)\n",
       "    (2): Conv2d(64, 128, kernel_size=(4, 4), stride=(2, 2), padding=(1, 1))\n",
       "    (3): InstanceNorm2d(128, eps=1e-05, momentum=0.1, affine=False, track_running_stats=False)\n",
       "    (4): LeakyReLU(negative_slope=0.2, inplace=True)\n",
       "    (5): Conv2d(128, 256, kernel_size=(4, 4), stride=(2, 2), padding=(1, 1))\n",
       "    (6): InstanceNorm2d(256, eps=1e-05, momentum=0.1, affine=False, track_running_stats=False)\n",
       "    (7): LeakyReLU(negative_slope=0.2, inplace=True)\n",
       "    (8): Conv2d(256, 512, kernel_size=(4, 4), stride=(2, 2), padding=(1, 1))\n",
       "    (9): InstanceNorm2d(512, eps=1e-05, momentum=0.1, affine=False, track_running_stats=False)\n",
       "    (10): LeakyReLU(negative_slope=0.2, inplace=True)\n",
       "    (11): ZeroPad2d((1, 0, 1, 0))\n",
       "    (12): Conv2d(512, 1, kernel_size=(4, 4), stride=(1, 1), padding=(1, 1))\n",
       "  )\n",
       ")"
      ]
     },
     "execution_count": 3,
     "metadata": {},
     "output_type": "execute_result"
    }
   ],
   "source": [
    "import conv_models\n",
    "\n",
    "conv_gen = conv_models.Generator(in_channels= params['in_channels'],\n",
    "                                        num_residual_blocks = params['num_resnet'],\n",
    "                                        U_net_filter_groth = params['U_net_filter_groth'],\n",
    "                                        U_net_step_num = params['U_net_step_num']\n",
    "                                        )\n",
    "conv_disc= conv_models.Discriminator(in_channels= params['in_channels'])\n",
    "\n",
    "conv_gen.cuda()\n",
    "conv_disc.cuda()"
   ]
  },
  {
   "cell_type": "code",
   "execution_count": 4,
   "metadata": {},
   "outputs": [
    {
     "name": "stdout",
     "output_type": "stream",
     "text": [
      "torch.Size([1, 64])\n",
      "torch.Size([1, 64])\n",
      "torch.Size([1])\n",
      "torch.Size([1, 64])\n",
      "tensor([[[[ 1.3787e-01,  3.0926e-01,  2.1851e-01,  ...,  1.0902e+00,\n",
      "            4.5783e-01, -1.8501e-01],\n",
      "          [-1.1995e+00, -4.5390e-01,  2.0066e-01,  ...,  1.1940e+00,\n",
      "           -6.7412e-01,  2.1906e+00],\n",
      "          [ 9.6044e-01, -7.2076e-01, -5.1151e-01,  ...,  1.0378e+00,\n",
      "           -1.2094e+00,  1.4771e+00],\n",
      "          ...,\n",
      "          [-1.5159e-01,  2.0645e-01, -1.6924e+00,  ...,  9.9420e-01,\n",
      "           -3.3700e-01, -3.1481e-01],\n",
      "          [-1.4030e+00, -9.9404e-01, -1.4305e-01,  ...,  8.9380e-01,\n",
      "           -4.1937e-01,  1.0062e+00],\n",
      "          [ 7.4775e-01, -6.5869e-01, -2.0023e+00,  ...,  1.7459e+00,\n",
      "           -7.5956e-01,  1.9543e+00]],\n",
      "\n",
      "         [[-1.6774e-03,  1.5214e+00, -2.1105e-01,  ...,  1.2275e+00,\n",
      "           -7.2509e-01,  1.9181e+00],\n",
      "          [-1.0436e+00, -1.2467e+00,  1.3783e-01,  ...,  1.4391e+00,\n",
      "            5.2413e-01,  1.8759e+00],\n",
      "          [ 9.5651e-01, -3.0956e-01,  6.8828e-01,  ...,  1.7101e+00,\n",
      "            4.5892e-01, -8.5227e-01],\n",
      "          ...,\n",
      "          [ 3.5176e-01,  1.5719e+00, -3.8316e-01,  ...,  2.0594e-01,\n",
      "            1.3341e-01, -3.3667e-01],\n",
      "          [-7.8946e-01, -7.9964e-01,  7.6378e-01,  ..., -2.6323e-02,\n",
      "           -8.9691e-01,  3.9723e-01],\n",
      "          [ 1.4099e+00,  1.8788e-01,  1.8422e+00,  ...,  7.0489e-01,\n",
      "           -5.2590e-03, -1.4633e+00]],\n",
      "\n",
      "         [[-3.4244e-01,  2.6157e-01,  7.8771e-01,  ...,  2.3377e-01,\n",
      "            3.9790e-01,  2.0077e+00],\n",
      "          [-1.0648e+00, -1.1474e+00, -1.6732e+00,  ...,  6.2658e-01,\n",
      "            5.3556e-01,  1.9428e+00],\n",
      "          [ 3.8380e-01, -5.6639e-01,  2.7999e-01,  ...,  1.0993e+00,\n",
      "            4.8828e-01,  5.8944e-02],\n",
      "          ...,\n",
      "          [-8.6018e-01, -5.2564e-01,  7.8987e-01,  ...,  1.6203e+00,\n",
      "           -1.7014e-01,  2.7708e+00],\n",
      "          [-7.6473e-01, -2.2450e+00, -1.6872e+00,  ...,  9.3578e-01,\n",
      "            9.4749e-01,  3.4496e-01],\n",
      "          [ 9.6840e-01, -6.9013e-01,  6.7365e-01,  ...,  4.7059e-01,\n",
      "            9.0955e-01,  1.9570e-01]]]], device='cuda:0',\n",
      "       grad_fn=<ReshapeAliasBackward0>)\n",
      "tensor(1.4477, device='cuda:0', grad_fn=<MseLossBackward0>)\n"
     ]
    },
    {
     "name": "stderr",
     "output_type": "stream",
     "text": [
      "c:\\Users\\phili\\OneDrive\\Uni\\WS_22\\Masterarbeit\\Masterarbeit_Code_Philipp_Rosin\\torch_stain_transfer\\env\\lib\\site-packages\\torch\\nn\\modules\\loss.py:536: UserWarning: Using a target size (torch.Size([1])) that is different to the input size (torch.Size([1, 64])). This will likely lead to incorrect results due to broadcasting. Please ensure they have the same size.\n",
      "  return F.mse_loss(input, target, reduction=self.reduction)\n",
      "c:\\Users\\phili\\OneDrive\\Uni\\WS_22\\Masterarbeit\\Masterarbeit_Code_Philipp_Rosin\\torch_stain_transfer\\env\\lib\\site-packages\\torch\\nn\\modules\\loss.py:536: UserWarning: Using a target size (torch.Size([3, 256, 256])) that is different to the input size (torch.Size([1, 3, 256, 256])). This will likely lead to incorrect results due to broadcasting. Please ensure they have the same size.\n",
      "  return F.mse_loss(input, target, reduction=self.reduction)\n"
     ]
    }
   ],
   "source": [
    "import numpy as np\n",
    "criterion_GAN = torch.nn.MSELoss().cuda()\n",
    "Tensor = torch.cuda.FloatTensor\n",
    "\n",
    "valid = Tensor(np.ones((real_HE.size(0)))) \n",
    "fake = Tensor(np.zeros((real_HE.size(0)))) \n",
    "\n",
    "fake_IHC = trans_gen(real_HE) \n",
    "disc_out = trans_disc(fake_IHC)\n",
    "print(valid.shape)\n",
    "print (disc_out.shape)\n",
    "loss_gen_1= criterion_GAN(disc_out, valid) \n",
    "print(fake_IHC)\n",
    "print(loss_gen_1)\n",
    "\n",
    "loss_gen_2 =  criterion_GAN(fake_IHC, real_IHC)"
   ]
  }
 ],
 "metadata": {
  "kernelspec": {
   "display_name": "env",
   "language": "python",
   "name": "python3"
  },
  "language_info": {
   "codemirror_mode": {
    "name": "ipython",
    "version": 3
   },
   "file_extension": ".py",
   "mimetype": "text/x-python",
   "name": "python",
   "nbconvert_exporter": "python",
   "pygments_lexer": "ipython3",
   "version": "3.8.5"
  },
  "orig_nbformat": 4,
  "vscode": {
   "interpreter": {
    "hash": "d960cb169598afdf3e07f36ef921bb5a4f876badc557409f77a22927d6dd7515"
   }
  }
 },
 "nbformat": 4,
 "nbformat_minor": 2
}
