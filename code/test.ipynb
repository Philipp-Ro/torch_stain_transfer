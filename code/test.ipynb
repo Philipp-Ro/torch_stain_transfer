{
 "cells": [
  {
   "cell_type": "code",
   "execution_count": 2,
   "metadata": {},
   "outputs": [
    {
     "name": "stderr",
     "output_type": "stream",
     "text": [
      "usage: ipykernel_launcher.py [-h] [--lr LR] [--beta1 BETA1] [--beta2 BETA2]\n",
      "                             [--diff_model] [--img_size IMG_SIZE]\n",
      "                             [--in_channels IN_CHANNELS]\n",
      "                             [--img_transforms IMG_TRANSFORMS]\n",
      "                             [--num_epochs NUM_EPOCHS]\n",
      "                             [--decay_epoch DECAY_EPOCH]\n",
      "                             [--batch_size BATCH_SIZE] [--device DEVICE]\n",
      "                             [--train_data TRAIN_DATA] [--test_data TEST_DATA]\n",
      "ipykernel_launcher.py: error: unrecognized arguments: --f=c:\\Users\\phili\\AppData\\Roaming\\jupyter\\runtime\\kernel-v2-18872Fj20YhY8PhBG.json\n"
     ]
    },
    {
     "ename": "SystemExit",
     "evalue": "2",
     "output_type": "error",
     "traceback": [
      "An exception has occurred, use %tb to see the full traceback.\n",
      "\u001b[1;31mSystemExit\u001b[0m\u001b[1;31m:\u001b[0m 2\n"
     ]
    }
   ],
   "source": [
    "import torch \n",
    "from torchvision.models import resnet50, ResNet50_Weights\n",
    "import argparse\n",
    "\n",
    "def my_args():\n",
    "    parser = argparse.ArgumentParser()\n",
    "\n",
    "    # Optimizer\n",
    "    parser.add_argument('--lr', type=float, default=3e-5, help='learining rate')\n",
    "    parser.add_argument('--beta1', type=float, default=0.5 , help='beta1 for adam optimizer')\n",
    "    parser.add_argument('--beta2', type=float, default=0.999, help='beta2 for adam optimizer')\n",
    "    parser.add_argument('--diff_model', action='store_true', default=False, help='use diffusion model')\n",
    "\n",
    "    # training \n",
    "    parser.add_argument('--img_size', type=int, default=256, help='Image size')\n",
    "    parser.add_argument('--in_channels', type=int, default=3, help='input channels')\n",
    "    parser.add_argument('--img_transforms', type=list, default=[\"colorjitter\",'horizontal_flip','vertical_flip'], help='choose image transforms from normalize,colorjitter,horizontal_flip,grayscale')\n",
    "    parser.add_argument('--num_epochs', type=int, default=3, help='epoch num')\n",
    "    parser.add_argument('--decay_epoch', type=int, default=80, help='decay epoch num')\n",
    "    parser.add_argument('--batch_size', type=int, default=1, help='batch size')\n",
    "    parser.add_argument('--device', type=str, default=\"cuda\", help='device')\n",
    "\n",
    "    # Data dirs\n",
    "    parser.add_argument('--train_data', type=str, default='C:/Users/phili/OneDrive/Uni/WS_22/Masterarbeit/Masterarbeit_Code_Philipp_Rosin/Data_set_BCI_challange/train', help='directory to the train data')\n",
    "    parser.add_argument('--test_data', type=str, default='C:/Users/phili/OneDrive/Uni/WS_22/Masterarbeit/Masterarbeit_Code_Philipp_Rosin/Data_set_BCI_challange/val', help='directory to the test data')\n",
    "    \n",
    "\n",
    "    return parser.parse_args() \n",
    "\n",
    "\n",
    "args = my_args()\n",
    "args = my_args()\n",
    "net = resnet50()\n",
    "net.fc = torch.nn.Linear(net.fc.in_features, 4)\n",
    "torch.nn.init.xavier_uniform_(net.fc.weight)\n",
    "net = net.to(args.device)"
   ]
  },
  {
   "cell_type": "code",
   "execution_count": 9,
   "metadata": {},
   "outputs": [
    {
     "ename": "ModuleNotFoundError",
     "evalue": "No module named 'sklearn'",
     "output_type": "error",
     "traceback": [
      "\u001b[1;31m---------------------------------------------------------------------------\u001b[0m",
      "\u001b[1;31mModuleNotFoundError\u001b[0m                       Traceback (most recent call last)",
      "\u001b[1;32mc:\\Users\\phili\\OneDrive\\Uni\\WS_22\\Masterarbeit\\Masterarbeit_Code_Philipp_Rosin\\torch_stain_transfer\\code\\test.ipynb Cell 2\u001b[0m line \u001b[0;36m2\n\u001b[0;32m      <a href='vscode-notebook-cell:/c%3A/Users/phili/OneDrive/Uni/WS_22/Masterarbeit/Masterarbeit_Code_Philipp_Rosin/torch_stain_transfer/code/test.ipynb#X16sZmlsZQ%3D%3D?line=0'>1</a>\u001b[0m \u001b[39mimport\u001b[39;00m \u001b[39mtorch\u001b[39;00m \n\u001b[1;32m----> <a href='vscode-notebook-cell:/c%3A/Users/phili/OneDrive/Uni/WS_22/Masterarbeit/Masterarbeit_Code_Philipp_Rosin/torch_stain_transfer/code/test.ipynb#X16sZmlsZQ%3D%3D?line=1'>2</a>\u001b[0m \u001b[39mfrom\u001b[39;00m \u001b[39msklearn\u001b[39;00m\u001b[39m.\u001b[39;00m\u001b[39mmetrics\u001b[39;00m \u001b[39mimport\u001b[39;00m confusion_matrix\n\u001b[0;32m      <a href='vscode-notebook-cell:/c%3A/Users/phili/OneDrive/Uni/WS_22/Masterarbeit/Masterarbeit_Code_Philipp_Rosin/torch_stain_transfer/code/test.ipynb#X16sZmlsZQ%3D%3D?line=2'>3</a>\u001b[0m \u001b[39mfrom\u001b[39;00m \u001b[39mpathlib\u001b[39;00m \u001b[39mimport\u001b[39;00m Path\n\u001b[0;32m      <a href='vscode-notebook-cell:/c%3A/Users/phili/OneDrive/Uni/WS_22/Masterarbeit/Masterarbeit_Code_Philipp_Rosin/torch_stain_transfer/code/test.ipynb#X16sZmlsZQ%3D%3D?line=3'>4</a>\u001b[0m \u001b[39mimport\u001b[39;00m \u001b[39mos\u001b[39;00m\n",
      "\u001b[1;31mModuleNotFoundError\u001b[0m: No module named 'sklearn'"
     ]
    }
   ],
   "source": [
    "import torch \n",
    "from sklearn.metrics import confusion_matrix\n",
    "from pathlib import Path\n",
    "import os\n",
    "import numpy as np\n",
    "import seaborn as sn\n",
    "\n",
    "x = range(0,6)\n",
    "y=range(0,6)\n",
    "cf_matrix = confusion_matrix(np.array(x), np.array(y))\n",
    "\n",
    "df_cm = pd.DataFrame(cf_matrix / np.sum(cf_matrix, axis=1)[:, None], index = [i for i in classes],\n",
    "                     columns = [i for i in classes])\n",
    "plt.figure(figsize = (12,7))\n",
    "sn.heatmap(df_cm, annot=True)\n",
    "plt.savefig('output.png')\n",
    "        "
   ]
  },
  {
   "cell_type": "code",
   "execution_count": 2,
   "metadata": {},
   "outputs": [
    {
     "name": "stdout",
     "output_type": "stream",
     "text": [
      "a = TRUE\n",
      "b = TRUE\n"
     ]
    }
   ],
   "source": [
    "a = \"L\"\n",
    "b= \"L+att\"\n",
    "if \"L\" in a :\n",
    "    print( \"a = TRUE\")\n",
    "if \"L\" in b and \"+att\" in b:\n",
    "    print( \"b = TRUE\")"
   ]
  }
 ],
 "metadata": {
  "kernelspec": {
   "display_name": "env",
   "language": "python",
   "name": "python3"
  },
  "language_info": {
   "codemirror_mode": {
    "name": "ipython",
    "version": 3
   },
   "file_extension": ".py",
   "mimetype": "text/x-python",
   "name": "python",
   "nbconvert_exporter": "python",
   "pygments_lexer": "ipython3",
   "version": "3.8.5"
  },
  "orig_nbformat": 4
 },
 "nbformat": 4,
 "nbformat_minor": 2
}
